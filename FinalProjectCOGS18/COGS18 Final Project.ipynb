{
 "cells": [
  {
   "cell_type": "markdown",
   "id": "1fee2d70",
   "metadata": {},
   "source": [
    "## COGS 18 Project: Developing a SIR Model\n",
    "\n",
    "This project utilizes public health data (for COVID-19) in order to create SIR models for predicting infectious disease rates over time. \n",
    "\n",
    "This data visualization takes a CSV file from the CDC containing COVID-19 data from 2021-2022 and an XLSX file from the US Census containing updated state populations (for 2021). Firstly, data will be cleaned, organized, and joined to create a compact table with data necessary for epidemiological calculations. Then two functions are established to perform these calculations. \n",
    "- The first calculates the infected proportion of the population (i) and append it with susceptible population (s) and recovered proportion of the population (r).\n",
    "- The second function utilizes infection rate (e) and recovery rate (b) to calculate derivatives of s, i, and r by a function of time.\n",
    "\n",
    "Together the outputs of these functions are utilized for integrating the dataframe data into something that can be plotted for visualization.\n",
    "\n",
    "In order to visualize the data, the program takes user input for a state (with a state abbreviation) and a date (as long as it's included in the original CDC dataset) and creates a SIR model utilizing the complimentary data to their input.\n",
    "\n",
    "**It's important to note that data available is limited and SIR models do not fully factor in outside variables (only strictly uses disease transmission data) so recovery rates will artificially level out sooner than observed patterns, so this is more of a basis for more complex programming**"
   ]
  },
  {
   "cell_type": "code",
   "execution_count": 1,
   "id": "1b475070",
   "metadata": {},
   "outputs": [],
   "source": [
    "import pandas as pd\n",
    "import numpy as np\n",
    "import matplotlib.pyplot as plt\n",
    "from scipy.integrate import odeint\n",
    "\n",
    "import pytest\n",
    "from IPython import display"
   ]
  },
  {
   "cell_type": "markdown",
   "id": "024fa738",
   "metadata": {},
   "source": [
    "Dataset acquired from CDC at https://data.cdc.gov/Case-Surveillance/United-States-COVID-19-Cases-and-Deaths-by-State-o/9mfq-cb36/data\n",
    "\n",
    "Contains data for COVID-19 in the United States\n",
    "\n",
    "Dataset acquired from US Census at https://www.census.gov/data/tables/time-series/demo/popest/2020s-state-total.html#par_textimage_1574439295\n",
    "\n",
    "Contains population data for the United States\n",
    "\n",
    "Resource for SIR model https://www.maa.org/press/periodicals/loci/joma/the-sir-model-for-spread-of-disease-the-differential-equation-model"
   ]
  },
  {
   "cell_type": "code",
   "execution_count": 2,
   "id": "4956ddbd",
   "metadata": {},
   "outputs": [],
   "source": [
    "covid_df = pd.read_csv('United_States_COVID-19_Cases_and_Deaths_by_State_over_Time_-_ARCHIVED.csv')"
   ]
  },
  {
   "cell_type": "code",
   "execution_count": 3,
   "id": "c653678a",
   "metadata": {},
   "outputs": [
    {
     "data": {
      "text/html": [
       "<div>\n",
       "<style scoped>\n",
       "    .dataframe tbody tr th:only-of-type {\n",
       "        vertical-align: middle;\n",
       "    }\n",
       "\n",
       "    .dataframe tbody tr th {\n",
       "        vertical-align: top;\n",
       "    }\n",
       "\n",
       "    .dataframe thead th {\n",
       "        text-align: right;\n",
       "    }\n",
       "</style>\n",
       "<table border=\"1\" class=\"dataframe\">\n",
       "  <thead>\n",
       "    <tr style=\"text-align: right;\">\n",
       "      <th></th>\n",
       "      <th>submission_date</th>\n",
       "      <th>state</th>\n",
       "      <th>tot_cases</th>\n",
       "      <th>conf_cases</th>\n",
       "      <th>prob_cases</th>\n",
       "      <th>new_case</th>\n",
       "      <th>pnew_case</th>\n",
       "      <th>tot_death</th>\n",
       "      <th>conf_death</th>\n",
       "      <th>prob_death</th>\n",
       "      <th>new_death</th>\n",
       "      <th>pnew_death</th>\n",
       "      <th>created_at</th>\n",
       "      <th>consent_cases</th>\n",
       "      <th>consent_deaths</th>\n",
       "    </tr>\n",
       "  </thead>\n",
       "  <tbody>\n",
       "    <tr>\n",
       "      <th>0</th>\n",
       "      <td>03/11/2021</td>\n",
       "      <td>KS</td>\n",
       "      <td>297229</td>\n",
       "      <td>241035.0</td>\n",
       "      <td>56194.0</td>\n",
       "      <td>0</td>\n",
       "      <td>0.0</td>\n",
       "      <td>4851</td>\n",
       "      <td>NaN</td>\n",
       "      <td>NaN</td>\n",
       "      <td>0</td>\n",
       "      <td>0.0</td>\n",
       "      <td>03/12/2021 03:20:13 PM</td>\n",
       "      <td>Agree</td>\n",
       "      <td>NaN</td>\n",
       "    </tr>\n",
       "    <tr>\n",
       "      <th>1</th>\n",
       "      <td>12/01/2021</td>\n",
       "      <td>ND</td>\n",
       "      <td>163565</td>\n",
       "      <td>135705.0</td>\n",
       "      <td>27860.0</td>\n",
       "      <td>589</td>\n",
       "      <td>220.0</td>\n",
       "      <td>1907</td>\n",
       "      <td>NaN</td>\n",
       "      <td>NaN</td>\n",
       "      <td>9</td>\n",
       "      <td>0.0</td>\n",
       "      <td>12/02/2021 02:35:20 PM</td>\n",
       "      <td>Agree</td>\n",
       "      <td>Not agree</td>\n",
       "    </tr>\n",
       "    <tr>\n",
       "      <th>2</th>\n",
       "      <td>01/02/2022</td>\n",
       "      <td>AS</td>\n",
       "      <td>11</td>\n",
       "      <td>NaN</td>\n",
       "      <td>NaN</td>\n",
       "      <td>0</td>\n",
       "      <td>0.0</td>\n",
       "      <td>0</td>\n",
       "      <td>NaN</td>\n",
       "      <td>NaN</td>\n",
       "      <td>0</td>\n",
       "      <td>0.0</td>\n",
       "      <td>01/03/2022 03:18:16 PM</td>\n",
       "      <td>NaN</td>\n",
       "      <td>NaN</td>\n",
       "    </tr>\n",
       "    <tr>\n",
       "      <th>3</th>\n",
       "      <td>11/22/2021</td>\n",
       "      <td>AL</td>\n",
       "      <td>841461</td>\n",
       "      <td>620483.0</td>\n",
       "      <td>220978.0</td>\n",
       "      <td>703</td>\n",
       "      <td>357.0</td>\n",
       "      <td>16377</td>\n",
       "      <td>12727.0</td>\n",
       "      <td>3650.0</td>\n",
       "      <td>7</td>\n",
       "      <td>3.0</td>\n",
       "      <td>11/22/2021 12:00:00 AM</td>\n",
       "      <td>Agree</td>\n",
       "      <td>Agree</td>\n",
       "    </tr>\n",
       "    <tr>\n",
       "      <th>4</th>\n",
       "      <td>05/30/2022</td>\n",
       "      <td>AK</td>\n",
       "      <td>251425</td>\n",
       "      <td>NaN</td>\n",
       "      <td>NaN</td>\n",
       "      <td>0</td>\n",
       "      <td>0.0</td>\n",
       "      <td>1252</td>\n",
       "      <td>NaN</td>\n",
       "      <td>NaN</td>\n",
       "      <td>0</td>\n",
       "      <td>0.0</td>\n",
       "      <td>05/31/2022 01:20:20 PM</td>\n",
       "      <td>NaN</td>\n",
       "      <td>NaN</td>\n",
       "    </tr>\n",
       "  </tbody>\n",
       "</table>\n",
       "</div>"
      ],
      "text/plain": [
       "  submission_date state  tot_cases  conf_cases  prob_cases  new_case  \\\n",
       "0      03/11/2021    KS     297229    241035.0     56194.0         0   \n",
       "1      12/01/2021    ND     163565    135705.0     27860.0       589   \n",
       "2      01/02/2022    AS         11         NaN         NaN         0   \n",
       "3      11/22/2021    AL     841461    620483.0    220978.0       703   \n",
       "4      05/30/2022    AK     251425         NaN         NaN         0   \n",
       "\n",
       "   pnew_case  tot_death  conf_death  prob_death  new_death  pnew_death  \\\n",
       "0        0.0       4851         NaN         NaN          0         0.0   \n",
       "1      220.0       1907         NaN         NaN          9         0.0   \n",
       "2        0.0          0         NaN         NaN          0         0.0   \n",
       "3      357.0      16377     12727.0      3650.0          7         3.0   \n",
       "4        0.0       1252         NaN         NaN          0         0.0   \n",
       "\n",
       "               created_at consent_cases consent_deaths  \n",
       "0  03/12/2021 03:20:13 PM         Agree            NaN  \n",
       "1  12/02/2021 02:35:20 PM         Agree      Not agree  \n",
       "2  01/03/2022 03:18:16 PM           NaN            NaN  \n",
       "3  11/22/2021 12:00:00 AM         Agree          Agree  \n",
       "4  05/31/2022 01:20:20 PM           NaN            NaN  "
      ]
     },
     "execution_count": 3,
     "metadata": {},
     "output_type": "execute_result"
    }
   ],
   "source": [
    "covid_df.head() # checking dataset"
   ]
  },
  {
   "cell_type": "markdown",
   "id": "0a171f06",
   "metadata": {},
   "source": [
    "#### Data Cleaning:\n",
    "\n",
    "For the purpose of this project, only the follow columns are needed:\n",
    "- submission_date\n",
    "- state\n",
    "- tot_cases (total cases)\n",
    "- new_case (new cases)\n",
    "- tot_death (total deaths)\n",
    "- new_death (new deaths)\n",
    "\n",
    "Submission date (submission_date) and State (state) will be utilized to index the rest of the variables for calculations. Total cases (tot_cases) will be used to calculate i (proportion of infected individuals), and the remaining variables will be left to compare values to the model."
   ]
  },
  {
   "cell_type": "code",
   "execution_count": 4,
   "id": "6552bc41",
   "metadata": {},
   "outputs": [],
   "source": [
    "# Declaring columns\n",
    "covid_df.columns = ['submission_date','state','tot_cases','conf_cases','prob_cases','new_case','pnew_case','tot_death',\n",
    "                    'conf_death','prob_death','new_death','pnew_death','created_at','consent_cases','consent_deaths']"
   ]
  },
  {
   "cell_type": "code",
   "execution_count": 5,
   "id": "af87a3ba",
   "metadata": {},
   "outputs": [],
   "source": [
    "# Dropping columns for data that will not be used\n",
    "covid_df = covid_df.drop(columns=['conf_cases','prob_cases','pnew_case','conf_death','prob_death','pnew_death','created_at',\n",
    "                         'consent_cases','consent_deaths'])"
   ]
  },
  {
   "cell_type": "code",
   "execution_count": 6,
   "id": "8f02afd3",
   "metadata": {},
   "outputs": [
    {
     "data": {
      "text/plain": [
       "dtype('O')"
      ]
     },
     "execution_count": 6,
     "metadata": {},
     "output_type": "execute_result"
    }
   ],
   "source": [
    "covid_df['submission_date'].dtypes # Checking datatype"
   ]
  },
  {
   "cell_type": "code",
   "execution_count": 7,
   "id": "70baa523",
   "metadata": {},
   "outputs": [
    {
     "data": {
      "text/plain": [
       "0        03/11/2021\n",
       "1        12/01/2021\n",
       "2        01/02/2022\n",
       "3        11/22/2021\n",
       "4        05/30/2022\n",
       "            ...    \n",
       "60055    02/09/2021\n",
       "60056    11/20/2020\n",
       "60057    08/17/2020\n",
       "60058    06/17/2020\n",
       "60059    05/07/2022\n",
       "Name: submission_date, Length: 60060, dtype: object"
      ]
     },
     "execution_count": 7,
     "metadata": {},
     "output_type": "execute_result"
    }
   ],
   "source": [
    "covid_df['submission_date'].astype(str) # Changing submission date datatype to string"
   ]
  },
  {
   "cell_type": "markdown",
   "id": "8b692581",
   "metadata": {},
   "source": [
    "This dataset will be narrowed down to submissions on 10/18/2021 and 10/18/2022 for this project to simplify options. (As well as opening an opportunity to possibly perform more advanced ML-based programming to create more accurate predictive models in the future.)"
   ]
  },
  {
   "cell_type": "code",
   "execution_count": 8,
   "id": "8ec31546",
   "metadata": {},
   "outputs": [],
   "source": [
    "# Narrowing down dataframe to 10/18 for 2021 and 2022\n",
    "covid_df = covid_df[(covid_df['submission_date']=='10/18/2021') | (covid_df['submission_date']=='10/18/2022')]"
   ]
  },
  {
   "cell_type": "code",
   "execution_count": 9,
   "id": "b3d50168",
   "metadata": {},
   "outputs": [
    {
     "data": {
      "text/html": [
       "<div>\n",
       "<style scoped>\n",
       "    .dataframe tbody tr th:only-of-type {\n",
       "        vertical-align: middle;\n",
       "    }\n",
       "\n",
       "    .dataframe tbody tr th {\n",
       "        vertical-align: top;\n",
       "    }\n",
       "\n",
       "    .dataframe thead th {\n",
       "        text-align: right;\n",
       "    }\n",
       "</style>\n",
       "<table border=\"1\" class=\"dataframe\">\n",
       "  <thead>\n",
       "    <tr style=\"text-align: right;\">\n",
       "      <th></th>\n",
       "      <th>submission_date</th>\n",
       "      <th>state</th>\n",
       "      <th>tot_cases</th>\n",
       "      <th>new_case</th>\n",
       "      <th>tot_death</th>\n",
       "      <th>new_death</th>\n",
       "    </tr>\n",
       "  </thead>\n",
       "  <tbody>\n",
       "    <tr>\n",
       "      <th>212</th>\n",
       "      <td>10/18/2021</td>\n",
       "      <td>ND</td>\n",
       "      <td>142407</td>\n",
       "      <td>923</td>\n",
       "      <td>1690</td>\n",
       "      <td>10</td>\n",
       "    </tr>\n",
       "    <tr>\n",
       "      <th>295</th>\n",
       "      <td>10/18/2022</td>\n",
       "      <td>IA</td>\n",
       "      <td>861010</td>\n",
       "      <td>844</td>\n",
       "      <td>10152</td>\n",
       "      <td>27</td>\n",
       "    </tr>\n",
       "    <tr>\n",
       "      <th>366</th>\n",
       "      <td>10/18/2022</td>\n",
       "      <td>NY</td>\n",
       "      <td>3275131</td>\n",
       "      <td>1660</td>\n",
       "      <td>29356</td>\n",
       "      <td>32</td>\n",
       "    </tr>\n",
       "    <tr>\n",
       "      <th>390</th>\n",
       "      <td>10/18/2022</td>\n",
       "      <td>NM</td>\n",
       "      <td>623179</td>\n",
       "      <td>266</td>\n",
       "      <td>8601</td>\n",
       "      <td>0</td>\n",
       "    </tr>\n",
       "    <tr>\n",
       "      <th>413</th>\n",
       "      <td>10/18/2021</td>\n",
       "      <td>GU</td>\n",
       "      <td>17154</td>\n",
       "      <td>163</td>\n",
       "      <td>226</td>\n",
       "      <td>3</td>\n",
       "    </tr>\n",
       "  </tbody>\n",
       "</table>\n",
       "</div>"
      ],
      "text/plain": [
       "    submission_date state  tot_cases  new_case  tot_death  new_death\n",
       "212      10/18/2021    ND     142407       923       1690         10\n",
       "295      10/18/2022    IA     861010       844      10152         27\n",
       "366      10/18/2022    NY    3275131      1660      29356         32\n",
       "390      10/18/2022    NM     623179       266       8601          0\n",
       "413      10/18/2021    GU      17154       163        226          3"
      ]
     },
     "execution_count": 9,
     "metadata": {},
     "output_type": "execute_result"
    }
   ],
   "source": [
    "covid_df.head() # checking if only wanted columns are left"
   ]
  },
  {
   "cell_type": "code",
   "execution_count": 10,
   "id": "f1dbcd03",
   "metadata": {},
   "outputs": [],
   "source": [
    "# Organizing dataframe by date from oldest to newest\n",
    "covid_df = covid_df.sort_values(by='submission_date')"
   ]
  },
  {
   "cell_type": "code",
   "execution_count": 11,
   "id": "25d75e9b",
   "metadata": {},
   "outputs": [
    {
     "data": {
      "text/html": [
       "<div>\n",
       "<style scoped>\n",
       "    .dataframe tbody tr th:only-of-type {\n",
       "        vertical-align: middle;\n",
       "    }\n",
       "\n",
       "    .dataframe tbody tr th {\n",
       "        vertical-align: top;\n",
       "    }\n",
       "\n",
       "    .dataframe thead th {\n",
       "        text-align: right;\n",
       "    }\n",
       "</style>\n",
       "<table border=\"1\" class=\"dataframe\">\n",
       "  <thead>\n",
       "    <tr style=\"text-align: right;\">\n",
       "      <th></th>\n",
       "      <th>submission_date</th>\n",
       "      <th>state</th>\n",
       "      <th>tot_cases</th>\n",
       "      <th>new_case</th>\n",
       "      <th>tot_death</th>\n",
       "      <th>new_death</th>\n",
       "    </tr>\n",
       "  </thead>\n",
       "  <tbody>\n",
       "    <tr>\n",
       "      <th>212</th>\n",
       "      <td>10/18/2021</td>\n",
       "      <td>ND</td>\n",
       "      <td>142407</td>\n",
       "      <td>923</td>\n",
       "      <td>1690</td>\n",
       "      <td>10</td>\n",
       "    </tr>\n",
       "    <tr>\n",
       "      <th>38226</th>\n",
       "      <td>10/18/2021</td>\n",
       "      <td>NJ</td>\n",
       "      <td>1182051</td>\n",
       "      <td>767</td>\n",
       "      <td>27737</td>\n",
       "      <td>12</td>\n",
       "    </tr>\n",
       "    <tr>\n",
       "      <th>36575</th>\n",
       "      <td>10/18/2021</td>\n",
       "      <td>WY</td>\n",
       "      <td>98165</td>\n",
       "      <td>344</td>\n",
       "      <td>1080</td>\n",
       "      <td>0</td>\n",
       "    </tr>\n",
       "    <tr>\n",
       "      <th>36275</th>\n",
       "      <td>10/18/2021</td>\n",
       "      <td>MD</td>\n",
       "      <td>551264</td>\n",
       "      <td>714</td>\n",
       "      <td>10749</td>\n",
       "      <td>12</td>\n",
       "    </tr>\n",
       "    <tr>\n",
       "      <th>33301</th>\n",
       "      <td>10/18/2021</td>\n",
       "      <td>NE</td>\n",
       "      <td>276814</td>\n",
       "      <td>155</td>\n",
       "      <td>2920</td>\n",
       "      <td>8</td>\n",
       "    </tr>\n",
       "  </tbody>\n",
       "</table>\n",
       "</div>"
      ],
      "text/plain": [
       "      submission_date state  tot_cases  new_case  tot_death  new_death\n",
       "212        10/18/2021    ND     142407       923       1690         10\n",
       "38226      10/18/2021    NJ    1182051       767      27737         12\n",
       "36575      10/18/2021    WY      98165       344       1080          0\n",
       "36275      10/18/2021    MD     551264       714      10749         12\n",
       "33301      10/18/2021    NE     276814       155       2920          8"
      ]
     },
     "execution_count": 11,
     "metadata": {},
     "output_type": "execute_result"
    }
   ],
   "source": [
    "covid_df.head()"
   ]
  },
  {
   "cell_type": "markdown",
   "id": "550a7287",
   "metadata": {},
   "source": [
    "Before creating a prediction model, a SIR model will be established to visualize changes over time across states.\n",
    "\n",
    "A SIR model is a statistical model in epidemiology that depicts individuals in a population who are:\n",
    "- Susceptible (S)\n",
    "- Infected (I)\n",
    "- Recovered (R)\n",
    "\n",
    "Variables for this model will be indicated by:\n",
    "- S = total susceptible population (population - tot_cases)\n",
    "- I = total infections (tot_cases)\n",
    "- R = 0 for initial population (or if/when comparing submission_dates when tot_cases (of an earlier date) - tot_cases (of a later date) > 0, then R = this value)\n",
    "\n",
    "Lower case letters (s,i,r) will be utilized once scaled:\n",
    "- s = S/S (proportion of susceptible population)\n",
    "- i = I/S (proportion of infected population)\n",
    "- r = R/S (proportion of recovered population)\n",
    "\n",
    "The visualizations will utilize the scaled variables."
   ]
  },
  {
   "cell_type": "code",
   "execution_count": 12,
   "id": "7e7da5bb",
   "metadata": {},
   "outputs": [],
   "source": [
    "state_populations = pd.read_excel('NST-EST2021-POP.xlsx')"
   ]
  },
  {
   "cell_type": "code",
   "execution_count": 13,
   "id": "4f9a9ba0",
   "metadata": {},
   "outputs": [],
   "source": [
    "state_populations = state_populations.rename(columns={\"\"\"table with row headers in column A and column headers in rows 3 through \n",
    "                                                      4. (leading dots indicate sub-parts)\"\"\":'state','Unnamed: 3':'2021 population'})\n",
    "state_populations = state_populations.drop(columns=['Unnamed: 1','Unnamed: 2'])\n",
    "state_populations = state_populations.drop([0,1,2,3,4,5,6,7,59,60,61,62,63,64,65])"
   ]
  },
  {
   "cell_type": "code",
   "execution_count": 14,
   "id": "765d1d52",
   "metadata": {},
   "outputs": [],
   "source": [
    "state_populations.columns = ['state','2021 population']"
   ]
  },
  {
   "cell_type": "code",
   "execution_count": 15,
   "id": "a49e63e7",
   "metadata": {},
   "outputs": [
    {
     "data": {
      "text/plain": [
       "dtype('float64')"
      ]
     },
     "execution_count": 15,
     "metadata": {},
     "output_type": "execute_result"
    }
   ],
   "source": [
    "# Checking datatypes\n",
    "state_populations['2021 population'].dtypes # Want it to be a float/int"
   ]
  },
  {
   "cell_type": "code",
   "execution_count": 16,
   "id": "8965eddd",
   "metadata": {},
   "outputs": [
    {
     "data": {
      "text/plain": [
       "dtype('O')"
      ]
     },
     "execution_count": 16,
     "metadata": {},
     "output_type": "execute_result"
    }
   ],
   "source": [
    "state_populations['state'].dtypes # Want it to be a string"
   ]
  },
  {
   "cell_type": "code",
   "execution_count": 17,
   "id": "b32f7f05",
   "metadata": {},
   "outputs": [
    {
     "data": {
      "text/plain": [
       "8                  .Alabama\n",
       "9                   .Alaska\n",
       "10                 .Arizona\n",
       "11                .Arkansas\n",
       "12              .California\n",
       "13                .Colorado\n",
       "14             .Connecticut\n",
       "15                .Delaware\n",
       "16    .District of Columbia\n",
       "17                 .Florida\n",
       "18                 .Georgia\n",
       "19                  .Hawaii\n",
       "20                   .Idaho\n",
       "21                .Illinois\n",
       "22                 .Indiana\n",
       "23                    .Iowa\n",
       "24                  .Kansas\n",
       "25                .Kentucky\n",
       "26               .Louisiana\n",
       "27                   .Maine\n",
       "28                .Maryland\n",
       "29           .Massachusetts\n",
       "30                .Michigan\n",
       "31               .Minnesota\n",
       "32             .Mississippi\n",
       "33                .Missouri\n",
       "34                 .Montana\n",
       "35                .Nebraska\n",
       "36                  .Nevada\n",
       "37           .New Hampshire\n",
       "38              .New Jersey\n",
       "39              .New Mexico\n",
       "40                .New York\n",
       "41          .North Carolina\n",
       "42            .North Dakota\n",
       "43                    .Ohio\n",
       "44                .Oklahoma\n",
       "45                  .Oregon\n",
       "46            .Pennsylvania\n",
       "47            .Rhode Island\n",
       "48          .South Carolina\n",
       "49            .South Dakota\n",
       "50               .Tennessee\n",
       "51                   .Texas\n",
       "52                    .Utah\n",
       "53                 .Vermont\n",
       "54                .Virginia\n",
       "55              .Washington\n",
       "56           .West Virginia\n",
       "57               .Wisconsin\n",
       "58                 .Wyoming\n",
       "Name: state, dtype: object"
      ]
     },
     "execution_count": 17,
     "metadata": {},
     "output_type": "execute_result"
    }
   ],
   "source": [
    "# Converting dtype Object to String\n",
    "state_populations['state'].astype(str)"
   ]
  },
  {
   "cell_type": "code",
   "execution_count": 18,
   "id": "3536eba9",
   "metadata": {},
   "outputs": [
    {
     "name": "stderr",
     "output_type": "stream",
     "text": [
      "C:\\Users\\chask\\AppData\\Local\\Temp/ipykernel_24952/404658065.py:2: FutureWarning: The default value of regex will change from True to False in a future version. In addition, single character regular expressions will *not* be treated as literal strings when regex=True.\n",
      "  state_populations['state'] = state_populations['state'].str.replace('.','')\n"
     ]
    }
   ],
   "source": [
    "# Removing the '.' so the state column is only the state name\n",
    "state_populations['state'] = state_populations['state'].str.replace('.','')"
   ]
  },
  {
   "cell_type": "code",
   "execution_count": 19,
   "id": "d20c5045",
   "metadata": {},
   "outputs": [
    {
     "data": {
      "text/html": [
       "<div>\n",
       "<style scoped>\n",
       "    .dataframe tbody tr th:only-of-type {\n",
       "        vertical-align: middle;\n",
       "    }\n",
       "\n",
       "    .dataframe tbody tr th {\n",
       "        vertical-align: top;\n",
       "    }\n",
       "\n",
       "    .dataframe thead th {\n",
       "        text-align: right;\n",
       "    }\n",
       "</style>\n",
       "<table border=\"1\" class=\"dataframe\">\n",
       "  <thead>\n",
       "    <tr style=\"text-align: right;\">\n",
       "      <th></th>\n",
       "      <th>state</th>\n",
       "      <th>2021 population</th>\n",
       "    </tr>\n",
       "  </thead>\n",
       "  <tbody>\n",
       "    <tr>\n",
       "      <th>8</th>\n",
       "      <td>Alabama</td>\n",
       "      <td>5039877.0</td>\n",
       "    </tr>\n",
       "    <tr>\n",
       "      <th>9</th>\n",
       "      <td>Alaska</td>\n",
       "      <td>732673.0</td>\n",
       "    </tr>\n",
       "    <tr>\n",
       "      <th>10</th>\n",
       "      <td>Arizona</td>\n",
       "      <td>7276316.0</td>\n",
       "    </tr>\n",
       "    <tr>\n",
       "      <th>11</th>\n",
       "      <td>Arkansas</td>\n",
       "      <td>3025891.0</td>\n",
       "    </tr>\n",
       "    <tr>\n",
       "      <th>12</th>\n",
       "      <td>California</td>\n",
       "      <td>39237836.0</td>\n",
       "    </tr>\n",
       "  </tbody>\n",
       "</table>\n",
       "</div>"
      ],
      "text/plain": [
       "         state  2021 population\n",
       "8      Alabama        5039877.0\n",
       "9       Alaska         732673.0\n",
       "10     Arizona        7276316.0\n",
       "11    Arkansas        3025891.0\n",
       "12  California       39237836.0"
      ]
     },
     "execution_count": 19,
     "metadata": {},
     "output_type": "execute_result"
    }
   ],
   "source": [
    "state_populations.head()"
   ]
  },
  {
   "cell_type": "markdown",
   "id": "e6239249",
   "metadata": {},
   "source": [
    "The following dictionary was copied from Roger Allen's github at the following link: https://gist.github.com/rogerallen/1583593"
   ]
  },
  {
   "cell_type": "code",
   "execution_count": 20,
   "id": "0ead749c",
   "metadata": {},
   "outputs": [],
   "source": [
    "us_state_to_abbrev = {\n",
    "    \"Alabama\": \"AL\",\n",
    "    \"Alaska\": \"AK\",\n",
    "    \"Arizona\": \"AZ\",\n",
    "    \"Arkansas\": \"AR\",\n",
    "    \"California\": \"CA\",\n",
    "    \"Colorado\": \"CO\",\n",
    "    \"Connecticut\": \"CT\",\n",
    "    \"Delaware\": \"DE\",\n",
    "    \"Florida\": \"FL\",\n",
    "    \"Georgia\": \"GA\",\n",
    "    \"Hawaii\": \"HI\",\n",
    "    \"Idaho\": \"ID\",\n",
    "    \"Illinois\": \"IL\",\n",
    "    \"Indiana\": \"IN\",\n",
    "    \"Iowa\": \"IA\",\n",
    "    \"Kansas\": \"KS\",\n",
    "    \"Kentucky\": \"KY\",\n",
    "    \"Louisiana\": \"LA\",\n",
    "    \"Maine\": \"ME\",\n",
    "    \"Maryland\": \"MD\",\n",
    "    \"Massachusetts\": \"MA\",\n",
    "    \"Michigan\": \"MI\",\n",
    "    \"Minnesota\": \"MN\",\n",
    "    \"Mississippi\": \"MS\",\n",
    "    \"Missouri\": \"MO\",\n",
    "    \"Montana\": \"MT\",\n",
    "    \"Nebraska\": \"NE\",\n",
    "    \"Nevada\": \"NV\",\n",
    "    \"New Hampshire\": \"NH\",\n",
    "    \"New Jersey\": \"NJ\",\n",
    "    \"New Mexico\": \"NM\",\n",
    "    \"New York\": \"NY\",\n",
    "    \"North Carolina\": \"NC\",\n",
    "    \"North Dakota\": \"ND\",\n",
    "    \"Ohio\": \"OH\",\n",
    "    \"Oklahoma\": \"OK\",\n",
    "    \"Oregon\": \"OR\",\n",
    "    \"Pennsylvania\": \"PA\",\n",
    "    \"Rhode Island\": \"RI\",\n",
    "    \"South Carolina\": \"SC\",\n",
    "    \"South Dakota\": \"SD\",\n",
    "    \"Tennessee\": \"TN\",\n",
    "    \"Texas\": \"TX\",\n",
    "    \"Utah\": \"UT\",\n",
    "    \"Vermont\": \"VT\",\n",
    "    \"Virginia\": \"VA\",\n",
    "    \"Washington\": \"WA\",\n",
    "    \"West Virginia\": \"WV\",\n",
    "    \"Wisconsin\": \"WI\",\n",
    "    \"Wyoming\": \"WY\"}"
   ]
  },
  {
   "cell_type": "code",
   "execution_count": 21,
   "id": "85600638",
   "metadata": {},
   "outputs": [],
   "source": [
    "# Utilizing the dictionary to change the full state name to the abbreviation to utilize for joining with covid_df\n",
    "state_populations['state'] = state_populations['state'].map(us_state_to_abbrev)"
   ]
  },
  {
   "cell_type": "code",
   "execution_count": 22,
   "id": "2a3f0292",
   "metadata": {},
   "outputs": [
    {
     "data": {
      "text/html": [
       "<div>\n",
       "<style scoped>\n",
       "    .dataframe tbody tr th:only-of-type {\n",
       "        vertical-align: middle;\n",
       "    }\n",
       "\n",
       "    .dataframe tbody tr th {\n",
       "        vertical-align: top;\n",
       "    }\n",
       "\n",
       "    .dataframe thead th {\n",
       "        text-align: right;\n",
       "    }\n",
       "</style>\n",
       "<table border=\"1\" class=\"dataframe\">\n",
       "  <thead>\n",
       "    <tr style=\"text-align: right;\">\n",
       "      <th></th>\n",
       "      <th>state</th>\n",
       "      <th>2021 population</th>\n",
       "    </tr>\n",
       "  </thead>\n",
       "  <tbody>\n",
       "    <tr>\n",
       "      <th>8</th>\n",
       "      <td>AL</td>\n",
       "      <td>5039877.0</td>\n",
       "    </tr>\n",
       "    <tr>\n",
       "      <th>9</th>\n",
       "      <td>AK</td>\n",
       "      <td>732673.0</td>\n",
       "    </tr>\n",
       "    <tr>\n",
       "      <th>10</th>\n",
       "      <td>AZ</td>\n",
       "      <td>7276316.0</td>\n",
       "    </tr>\n",
       "    <tr>\n",
       "      <th>11</th>\n",
       "      <td>AR</td>\n",
       "      <td>3025891.0</td>\n",
       "    </tr>\n",
       "    <tr>\n",
       "      <th>12</th>\n",
       "      <td>CA</td>\n",
       "      <td>39237836.0</td>\n",
       "    </tr>\n",
       "  </tbody>\n",
       "</table>\n",
       "</div>"
      ],
      "text/plain": [
       "   state  2021 population\n",
       "8     AL        5039877.0\n",
       "9     AK         732673.0\n",
       "10    AZ        7276316.0\n",
       "11    AR        3025891.0\n",
       "12    CA       39237836.0"
      ]
     },
     "execution_count": 22,
     "metadata": {},
     "output_type": "execute_result"
    }
   ],
   "source": [
    "state_populations.head()"
   ]
  },
  {
   "cell_type": "code",
   "execution_count": 23,
   "id": "a4ec12a2",
   "metadata": {},
   "outputs": [],
   "source": [
    "# Combining dataframes using an inner join on state data (will merge state column and add all non-matching columns[population])\n",
    "total_data = state_populations.merge(covid_df, how = 'inner', on = ['state'])"
   ]
  },
  {
   "cell_type": "code",
   "execution_count": 24,
   "id": "7219b002",
   "metadata": {},
   "outputs": [
    {
     "data": {
      "text/html": [
       "<div>\n",
       "<style scoped>\n",
       "    .dataframe tbody tr th:only-of-type {\n",
       "        vertical-align: middle;\n",
       "    }\n",
       "\n",
       "    .dataframe tbody tr th {\n",
       "        vertical-align: top;\n",
       "    }\n",
       "\n",
       "    .dataframe thead th {\n",
       "        text-align: right;\n",
       "    }\n",
       "</style>\n",
       "<table border=\"1\" class=\"dataframe\">\n",
       "  <thead>\n",
       "    <tr style=\"text-align: right;\">\n",
       "      <th></th>\n",
       "      <th>state</th>\n",
       "      <th>2021 population</th>\n",
       "      <th>submission_date</th>\n",
       "      <th>tot_cases</th>\n",
       "      <th>new_case</th>\n",
       "      <th>tot_death</th>\n",
       "      <th>new_death</th>\n",
       "    </tr>\n",
       "  </thead>\n",
       "  <tbody>\n",
       "    <tr>\n",
       "      <th>0</th>\n",
       "      <td>AL</td>\n",
       "      <td>5039877.0</td>\n",
       "      <td>10/18/2021</td>\n",
       "      <td>810974</td>\n",
       "      <td>1041</td>\n",
       "      <td>15948</td>\n",
       "      <td>26</td>\n",
       "    </tr>\n",
       "    <tr>\n",
       "      <th>1</th>\n",
       "      <td>AL</td>\n",
       "      <td>5039877.0</td>\n",
       "      <td>10/18/2022</td>\n",
       "      <td>1530803</td>\n",
       "      <td>392</td>\n",
       "      <td>20526</td>\n",
       "      <td>4</td>\n",
       "    </tr>\n",
       "    <tr>\n",
       "      <th>2</th>\n",
       "      <td>AK</td>\n",
       "      <td>732673.0</td>\n",
       "      <td>10/18/2021</td>\n",
       "      <td>124751</td>\n",
       "      <td>691</td>\n",
       "      <td>642</td>\n",
       "      <td>16</td>\n",
       "    </tr>\n",
       "    <tr>\n",
       "      <th>3</th>\n",
       "      <td>AK</td>\n",
       "      <td>732673.0</td>\n",
       "      <td>10/18/2022</td>\n",
       "      <td>284076</td>\n",
       "      <td>0</td>\n",
       "      <td>1356</td>\n",
       "      <td>0</td>\n",
       "    </tr>\n",
       "    <tr>\n",
       "      <th>4</th>\n",
       "      <td>AZ</td>\n",
       "      <td>7276316.0</td>\n",
       "      <td>10/18/2021</td>\n",
       "      <td>1135748</td>\n",
       "      <td>1886</td>\n",
       "      <td>20614</td>\n",
       "      <td>57</td>\n",
       "    </tr>\n",
       "  </tbody>\n",
       "</table>\n",
       "</div>"
      ],
      "text/plain": [
       "  state  2021 population submission_date  tot_cases  new_case  tot_death  \\\n",
       "0    AL        5039877.0      10/18/2021     810974      1041      15948   \n",
       "1    AL        5039877.0      10/18/2022    1530803       392      20526   \n",
       "2    AK         732673.0      10/18/2021     124751       691        642   \n",
       "3    AK         732673.0      10/18/2022     284076         0       1356   \n",
       "4    AZ        7276316.0      10/18/2021    1135748      1886      20614   \n",
       "\n",
       "   new_death  \n",
       "0         26  \n",
       "1          4  \n",
       "2         16  \n",
       "3          0  \n",
       "4         57  "
      ]
     },
     "execution_count": 24,
     "metadata": {},
     "output_type": "execute_result"
    }
   ],
   "source": [
    "# Checking if join worked as intended\n",
    "total_data.head()"
   ]
  },
  {
   "cell_type": "code",
   "execution_count": 25,
   "id": "6fa39b59",
   "metadata": {},
   "outputs": [
    {
     "data": {
      "text/plain": [
       "dtype('O')"
      ]
     },
     "execution_count": 25,
     "metadata": {},
     "output_type": "execute_result"
    }
   ],
   "source": [
    "# Checking datatypes after merging into new dataframe\n",
    "total_data['state'].dtypes"
   ]
  },
  {
   "cell_type": "code",
   "execution_count": 26,
   "id": "4ebb2339",
   "metadata": {},
   "outputs": [
    {
     "data": {
      "text/plain": [
       "dtype('float64')"
      ]
     },
     "execution_count": 26,
     "metadata": {},
     "output_type": "execute_result"
    }
   ],
   "source": [
    "total_data['2021 population'].dtypes"
   ]
  },
  {
   "cell_type": "code",
   "execution_count": 27,
   "id": "61abff7a",
   "metadata": {},
   "outputs": [
    {
     "data": {
      "text/plain": [
       "dtype('O')"
      ]
     },
     "execution_count": 27,
     "metadata": {},
     "output_type": "execute_result"
    }
   ],
   "source": [
    "total_data['submission_date'].dtypes"
   ]
  },
  {
   "cell_type": "code",
   "execution_count": 28,
   "id": "a46bd05b",
   "metadata": {},
   "outputs": [
    {
     "data": {
      "text/plain": [
       "0     10/18/2021\n",
       "1     10/18/2022\n",
       "2     10/18/2021\n",
       "3     10/18/2022\n",
       "4     10/18/2021\n",
       "         ...    \n",
       "95    10/18/2022\n",
       "96    10/18/2021\n",
       "97    10/18/2022\n",
       "98    10/18/2021\n",
       "99    10/18/2022\n",
       "Name: submission_date, Length: 100, dtype: object"
      ]
     },
     "execution_count": 28,
     "metadata": {},
     "output_type": "execute_result"
    }
   ],
   "source": [
    "# Want state and submission_date as strings\n",
    "total_data['state'].astype(str)\n",
    "total_data['submission_date'].astype(str)"
   ]
  },
  {
   "cell_type": "code",
   "execution_count": 29,
   "id": "727e5bf0",
   "metadata": {},
   "outputs": [],
   "source": [
    "# This function creates a list containing scaled variables [s,i,r] for population proportions\n",
    "\n",
    "def SIR(state, date):\n",
    "    \n",
    "    \"\"\"\n",
    "    This function is automatically run when accessing data visualization. It takes the user input for state and date, and\n",
    "    accesses the appropriate values from the total_data dataframe to calculate proportion of infected individuals (i) and\n",
    "    appends all of this data in a list for further calculation.\n",
    "    \"\"\"\n",
    "    \n",
    "    sir = []\n",
    "    s = 1\n",
    "    r = 0\n",
    "    i = np.where((total_data['state'] == state) &\n",
    "                (total_data['submission_date'] == date),\n",
    "                (total_data['tot_cases']/total_data['2021 population']), None)\n",
    "    \n",
    "    for val in i:\n",
    "        if val != None:\n",
    "            i = val\n",
    "    \n",
    "    sir.append(s)\n",
    "    sir.append(i)\n",
    "    sir.append(r)\n",
    "    \n",
    "    return sir"
   ]
  },
  {
   "cell_type": "markdown",
   "id": "798900e2",
   "metadata": {},
   "source": [
    "To graph a SIR model, derivatives of S,I,R must be presented.\n",
    "\n",
    "Placeholder values (unless data is found):\n",
    "- Infection rate (e) = 1\n",
    "- Recovery rate (b) = 0.5"
   ]
  },
  {
   "cell_type": "code",
   "execution_count": 30,
   "id": "3ab2f0ce",
   "metadata": {},
   "outputs": [],
   "source": [
    "e = 1 # infection rate\n",
    "b = 0.5 # recovery rate\n",
    "\n",
    "# Calculates derivatives of S, I, and R as functions of time \n",
    "def deriv(y,t):\n",
    "    \n",
    "    \"\"\"\n",
    "    This function is automatically run when accessing data visualization. It sets up a list y using the S, I, and R data\n",
    "    established. e indicates the infection rate and b indicates the recovery rate [These values need to be established prior\n",
    "    to running the function.]. It returns the derivatives of s, i, and r as functions of time in a list for further \n",
    "    visualization calculation.\n",
    "    \"\"\"\n",
    "    \n",
    "    S, I, R = y \n",
    "    ds = -e*S*I # derivative of S(t)\n",
    "    di = e*S*I - b*I # derivative of I(t)\n",
    "    dr = b*I # derivative of R(t)\n",
    "\n",
    "    return [ds,di,dr]"
   ]
  },
  {
   "cell_type": "markdown",
   "id": "2e16e24a",
   "metadata": {},
   "source": [
    "The code below indicates where a user can enter a state/date to produce a SIR model using given data of that state as of the given date."
   ]
  },
  {
   "cell_type": "code",
   "execution_count": 31,
   "id": "d4e3760b",
   "metadata": {},
   "outputs": [],
   "source": [
    "def sir_model():\n",
    "    \n",
    "    \"\"\"\n",
    "    This function visualizes the SIR model using calculated values from the SIR and deriv functions. It takes a user input\n",
    "    for state and date to perform these calculations and create a plot for the SIR model.\n",
    "    \"\"\"\n",
    "    \n",
    "    sir = SIR(input('Enter a state abbreviation: '), input('Enter a date: '))\n",
    "\n",
    "    t = np.linspace(start=1,stop=50,num=1000)\n",
    "    y = odeint(deriv,sir,t) \n",
    "\n",
    "    S = y[:,0]\n",
    "    I = y[:,1]\n",
    "    R = y[:,2]\n",
    "\n",
    "    plt.figure()\n",
    "    plt.plot(t,S,\"r\",label=\"S(t)\")\n",
    "    plt.plot(t,I,'b',label=\"I(t)\")\n",
    "    plt.plot(t,R,'g',label=\"R(t)\")\n",
    "    plt.legend()\n",
    "    plt.show()"
   ]
  },
  {
   "cell_type": "markdown",
   "id": "fd6ba70d",
   "metadata": {},
   "source": [
    "To create new SIR models, run the function sir_model() then provide appropriate input.\n",
    "\n",
    "Example:\n",
    "\n",
    "- sir_model()\n",
    "- 'Enter a state abbreviation:' *Enter one of the 50 state's abbreviations*\n",
    "- 'Enter a date:' *10/18/2021* or *10/18/2022* in this exact format"
   ]
  },
  {
   "cell_type": "markdown",
   "id": "2a498363",
   "metadata": {},
   "source": [
    "Function tests:"
   ]
  },
  {
   "cell_type": "code",
   "execution_count": 32,
   "id": "2fdf382a",
   "metadata": {},
   "outputs": [],
   "source": [
    "# Testing the SIR() function\n",
    "assert SIR('AZ','10/18/2021') == [1, 0.15608832821444257, 0]\n",
    "assert SIR('IL', '10/18/2021') == [1, 0.13189275844813259, 0]\n",
    "assert SIR('NY', '10/18/2022') == [1, 0.16511117990888546, 0]\n",
    "assert SIR('FL','10/18/2022') == [1, 0.32807451478178723, 0]\n",
    "\n",
    "# Testing the deriv() function\n",
    "assert deriv([(732673 - 284076),284076,0],10) == [-127435641372, 127435499334.0, 142038.0] # For AK, 10/18/2022\n",
    "assert deriv([(5039877 - 810974),810974,0],10) == [-3429530381522, 3429529976035.0, 405487.0] # For AL 10/18/2021"
   ]
  },
  {
   "cell_type": "markdown",
   "id": "dfd0b753",
   "metadata": {},
   "source": [
    "Example Outputs:"
   ]
  },
  {
   "cell_type": "code",
   "execution_count": 35,
   "id": "d7f40985",
   "metadata": {},
   "outputs": [
    {
     "data": {
      "image/png": "[encoded data removed]",
      "text/plain": [
       "<IPython.core.display.Image object>"
      ]
     },
     "execution_count": 35,
     "metadata": {},
     "output_type": "execute_result"
    }
   ],
   "source": [
    "display.Image('sir_model_tests/sir_model_CA21.png')"
   ]
  },
  {
   "cell_type": "code",
   "execution_count": 36,
   "id": "ab7afed7",
   "metadata": {},
   "outputs": [
    {
     "data": {
      "image/png": "[encoded data removed]",
      "text/plain": [
       "<IPython.core.display.Image object>"
      ]
     },
     "execution_count": 36,
     "metadata": {},
     "output_type": "execute_result"
    }
   ],
   "source": [
    "display.Image('sir_model_tests/sir_model_CA22.png')"
   ]
  }
 ],
 "metadata": {
  "kernelspec": {
   "display_name": "Python 3 (ipykernel)",
   "language": "python",
   "name": "python3"
  },
  "language_info": {
   "codemirror_mode": {
    "name": "ipython",
    "version": 3
   },
   "file_extension": ".py",
   "mimetype": "text/x-python",
   "name": "python",
   "nbconvert_exporter": "python",
   "pygments_lexer": "ipython3",
   "version": "3.9.7"
  }
 },
 "nbformat": 4,
 "nbformat_minor": 5
}
